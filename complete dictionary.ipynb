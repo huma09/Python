{
 "cells": [
  {
   "cell_type": "code",
   "execution_count": 1,
   "id": "8b776786",
   "metadata": {},
   "outputs": [],
   "source": [
    "my_dict={\"Customer Name\" : \"sayali\",\"Order id\":1234,'segment':\"Tally\"}"
   ]
  },
  {
   "cell_type": "code",
   "execution_count": 2,
   "id": "d0643ef3",
   "metadata": {},
   "outputs": [
    {
     "data": {
      "text/plain": [
       "{'Customer Name': 'sayali', 'Order id': 1234, 'segment': 'Tally'}"
      ]
     },
     "execution_count": 2,
     "metadata": {},
     "output_type": "execute_result"
    }
   ],
   "source": [
    "my_dict"
   ]
  },
  {
   "cell_type": "code",
   "execution_count": 3,
   "id": "9c4eab99",
   "metadata": {},
   "outputs": [
    {
     "data": {
      "text/plain": [
       "'sayali'"
      ]
     },
     "execution_count": 3,
     "metadata": {},
     "output_type": "execute_result"
    }
   ],
   "source": [
    "my_dict[\"Customer Name\"]"
   ]
  },
  {
   "cell_type": "code",
   "execution_count": 4,
   "id": "b857500c",
   "metadata": {},
   "outputs": [],
   "source": [
    "my_dict[\"segment\"]=\"data science\""
   ]
  },
  {
   "cell_type": "code",
   "execution_count": 5,
   "id": "6abd9577",
   "metadata": {},
   "outputs": [
    {
     "data": {
      "text/plain": [
       "{'Customer Name': 'sayali', 'Order id': 1234, 'segment': 'data science'}"
      ]
     },
     "execution_count": 5,
     "metadata": {},
     "output_type": "execute_result"
    }
   ],
   "source": [
    "my_dict"
   ]
  },
  {
   "cell_type": "code",
   "execution_count": 6,
   "id": "876caf59",
   "metadata": {},
   "outputs": [],
   "source": [
    "my_dict[\"region\"]=\"west\""
   ]
  },
  {
   "cell_type": "code",
   "execution_count": 7,
   "id": "be44c24c",
   "metadata": {},
   "outputs": [
    {
     "data": {
      "text/plain": [
       "{'Customer Name': 'sayali',\n",
       " 'Order id': 1234,\n",
       " 'segment': 'data science',\n",
       " 'region': 'west'}"
      ]
     },
     "execution_count": 7,
     "metadata": {},
     "output_type": "execute_result"
    }
   ],
   "source": [
    "my_dict"
   ]
  },
  {
   "cell_type": "code",
   "execution_count": 8,
   "id": "9514f42e",
   "metadata": {},
   "outputs": [
    {
     "data": {
      "text/plain": [
       "4"
      ]
     },
     "execution_count": 8,
     "metadata": {},
     "output_type": "execute_result"
    }
   ],
   "source": [
    "len(my_dict)"
   ]
  },
  {
   "cell_type": "code",
   "execution_count": 9,
   "id": "b86197ae",
   "metadata": {},
   "outputs": [
    {
     "data": {
      "text/plain": [
       "'sayali'"
      ]
     },
     "execution_count": 9,
     "metadata": {},
     "output_type": "execute_result"
    }
   ],
   "source": [
    "my_dict.pop(\"Customer Name\")"
   ]
  },
  {
   "cell_type": "code",
   "execution_count": 10,
   "id": "6de83783",
   "metadata": {},
   "outputs": [
    {
     "data": {
      "text/plain": [
       "{'Order id': 1234, 'segment': 'data science', 'region': 'west'}"
      ]
     },
     "execution_count": 10,
     "metadata": {},
     "output_type": "execute_result"
    }
   ],
   "source": [
    "my_dict"
   ]
  },
  {
   "cell_type": "code",
   "execution_count": 11,
   "id": "4b14117b",
   "metadata": {},
   "outputs": [],
   "source": [
    "my_dict.clear()"
   ]
  },
  {
   "cell_type": "code",
   "execution_count": 12,
   "id": "a19ade1f",
   "metadata": {},
   "outputs": [
    {
     "data": {
      "text/plain": [
       "{}"
      ]
     },
     "execution_count": 12,
     "metadata": {},
     "output_type": "execute_result"
    }
   ],
   "source": [
    "my_dict"
   ]
  },
  {
   "cell_type": "code",
   "execution_count": 13,
   "id": "febdb996",
   "metadata": {},
   "outputs": [],
   "source": [
    "del my_dict"
   ]
  },
  {
   "cell_type": "code",
   "execution_count": 14,
   "id": "2db6fd8a",
   "metadata": {},
   "outputs": [
    {
     "ename": "NameError",
     "evalue": "name 'my_dict' is not defined",
     "output_type": "error",
     "traceback": [
      "\u001b[1;31m---------------------------------------------------------------------------\u001b[0m",
      "\u001b[1;31mNameError\u001b[0m                                 Traceback (most recent call last)",
      "\u001b[1;32m<ipython-input-14-23f353dd2d1f>\u001b[0m in \u001b[0;36m<module>\u001b[1;34m\u001b[0m\n\u001b[1;32m----> 1\u001b[1;33m \u001b[0mmy_dict\u001b[0m\u001b[1;33m\u001b[0m\u001b[1;33m\u001b[0m\u001b[0m\n\u001b[0m",
      "\u001b[1;31mNameError\u001b[0m: name 'my_dict' is not defined"
     ]
    }
   ],
   "source": [
    "my_dict"
   ]
  },
  {
   "cell_type": "code",
   "execution_count": null,
   "id": "8acfefd6",
   "metadata": {},
   "outputs": [],
   "source": []
  }
 ],
 "metadata": {
  "kernelspec": {
   "display_name": "Python 3",
   "language": "python",
   "name": "python3"
  },
  "language_info": {
   "codemirror_mode": {
    "name": "ipython",
    "version": 3
   },
   "file_extension": ".py",
   "mimetype": "text/x-python",
   "name": "python",
   "nbconvert_exporter": "python",
   "pygments_lexer": "ipython3",
   "version": "3.7.2"
  }
 },
 "nbformat": 4,
 "nbformat_minor": 5
}
