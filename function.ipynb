{
 "cells": [
  {
   "cell_type": "code",
   "execution_count": 2,
   "id": "056304dd",
   "metadata": {},
   "outputs": [
    {
     "name": "stdout",
     "output_type": "stream",
     "text": [
      "11\n"
     ]
    }
   ],
   "source": [
    "a=5\n",
    "b=6\n",
    "c=sum((a,b))#built in funtion\n",
    "print(c)"
   ]
  },
  {
   "cell_type": "code",
   "execution_count": 12,
   "id": "5f2a2c26",
   "metadata": {},
   "outputs": [
    {
     "name": "stdout",
     "output_type": "stream",
     "text": [
      "Hello you are in function\n"
     ]
    }
   ],
   "source": [
    "def function():\n",
    "    print(\"Hello you are in function\")\n",
    "function()"
   ]
  },
  {
   "cell_type": "code",
   "execution_count": 22,
   "id": "a4550860",
   "metadata": {},
   "outputs": [
    {
     "name": "stdout",
     "output_type": "stream",
     "text": [
      "5.0\n",
      "This is a function which will calculate avderage of two numbers\n",
      "5.0\n"
     ]
    }
   ],
   "source": [
    "\n",
    "def function1(a,b):\n",
    "    \"\"\"This is a function which will calculate avderage of two numbers\"\"\"\n",
    "    average=(a+b)/2\n",
    "    print(average)\n",
    "    return average\n",
    "v=function1(5,5)\n",
    "print(function1.__doc__)\n",
    "print(v)"
   ]
  },
  {
   "cell_type": "code",
   "execution_count": 18,
   "id": "808acb4b",
   "metadata": {},
   "outputs": [
    {
     "name": "stdout",
     "output_type": "stream",
     "text": [
      "9\n"
     ]
    }
   ],
   "source": [
    "def summation(a,b):\n",
    "    c=a+b\n",
    "    return c\n",
    "c=summation(4,5)\n",
    "print(c)\n",
    "    "
   ]
  },
  {
   "cell_type": "code",
   "execution_count": 35,
   "id": "bfc2f670",
   "metadata": {},
   "outputs": [
    {
     "name": "stdout",
     "output_type": "stream",
     "text": [
      "Enter the value\n",
      "9\n",
      "9\n",
      "9\n",
      "Calculate Average\n",
      "9.0\n"
     ]
    }
   ],
   "source": [
    "def calculateAverage(a,b,c):\n",
    "    \"\"\"Calculate Average\"\"\"\n",
    "    d=(a+b+c)/3;\n",
    "    return d\n",
    "\n",
    "\n",
    "\n",
    "print(\"Enter the value\")\n",
    "a=int(input())\n",
    "b=int(input())\n",
    "c=int(input())\n",
    "print(calculateAverage.__doc__)\n",
    "\n",
    "d=calculateAverage(a,b,c)\n",
    "print(d)"
   ]
  },
  {
   "cell_type": "code",
   "execution_count": null,
   "id": "7c30579a",
   "metadata": {},
   "outputs": [],
   "source": []
  }
 ],
 "metadata": {
  "kernelspec": {
   "display_name": "Python 3",
   "language": "python",
   "name": "python3"
  },
  "language_info": {
   "codemirror_mode": {
    "name": "ipython",
    "version": 3
   },
   "file_extension": ".py",
   "mimetype": "text/x-python",
   "name": "python",
   "nbconvert_exporter": "python",
   "pygments_lexer": "ipython3",
   "version": "3.7.2"
  }
 },
 "nbformat": 4,
 "nbformat_minor": 5
}
