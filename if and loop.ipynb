{
 "cells": [
  {
   "cell_type": "markdown",
   "id": "42907734",
   "metadata": {},
   "source": [
    "# Conditional List"
   ]
  },
  {
   "cell_type": "code",
   "execution_count": 1,
   "id": "b7a85bf9",
   "metadata": {},
   "outputs": [
    {
     "name": "stdout",
     "output_type": "stream",
     "text": [
      "5\n"
     ]
    }
   ],
   "source": [
    "var1=6\n",
    "var2=56\n",
    "var3=int(input())"
   ]
  },
  {
   "cell_type": "code",
   "execution_count": 2,
   "id": "5befa917",
   "metadata": {},
   "outputs": [
    {
     "name": "stdout",
     "output_type": "stream",
     "text": [
      "lesser\n"
     ]
    }
   ],
   "source": [
    "if var3>var2:\n",
    "    print(\"Greater\")\n",
    "if var3==var2:\n",
    "    print(\"Equal\")\n",
    "else:\n",
    "    print(\"lesser\")"
   ]
  },
  {
   "cell_type": "code",
   "execution_count": 3,
   "id": "76ac7230",
   "metadata": {},
   "outputs": [
    {
     "name": "stdout",
     "output_type": "stream",
     "text": [
      "no its not in the list\n"
     ]
    }
   ],
   "source": [
    "list1=[5,7,3]\n",
    "if 15 in list1:\n",
    "    print(\"yes its in the list\")\n",
    "else:\n",
    "    print(\"no its not in the list\")"
   ]
  },
  {
   "cell_type": "code",
   "execution_count": 4,
   "id": "189a74ee",
   "metadata": {},
   "outputs": [
    {
     "name": "stdout",
     "output_type": "stream",
     "text": [
      "No its not in the list\n"
     ]
    }
   ],
   "source": [
    "list1=[5,7,3]\n",
    "if 15 not in list1:\n",
    "    print(\"No its not in the list\")"
   ]
  },
  {
   "cell_type": "code",
   "execution_count": 6,
   "id": "52d8f493",
   "metadata": {},
   "outputs": [
    {
     "name": "stdout",
     "output_type": "stream",
     "text": [
      "what is your age\n",
      "55\n",
      "yes you can Drive\n"
     ]
    }
   ],
   "source": [
    "print(\"what is your age\")\n",
    "age=int(input())\n",
    "if(age>=7 and age<=60):\n",
    "    \n",
    "    if(age>18):\n",
    "        print(\"yes you can Drive\")\n",
    "    elif(age==18):\n",
    "        print(\"we will think about you\")\n",
    "    else:\n",
    "        print(\"no you can't Drive\")\n",
    "else:\n",
    "    print(\"Enter a valid input between 7-60\")"
   ]
  },
  {
   "cell_type": "markdown",
   "id": "4844388f",
   "metadata": {},
   "source": [
    "# Loops"
   ]
  },
  {
   "cell_type": "code",
   "execution_count": 7,
   "id": "d4b778d9",
   "metadata": {},
   "outputs": [],
   "source": [
    "list1=[[\"Harry\",1],[\"Larry\",2],[\"Carry\",6],[\"Marie\",250]]"
   ]
  },
  {
   "cell_type": "code",
   "execution_count": 8,
   "id": "e1845862",
   "metadata": {},
   "outputs": [
    {
     "name": "stdout",
     "output_type": "stream",
     "text": [
      "Harry and lolly is 1\n",
      "Larry and lolly is 2\n",
      "Carry and lolly is 6\n",
      "Marie and lolly is 250\n"
     ]
    }
   ],
   "source": [
    "for item,lollypop in list1:\n",
    "    print(item,\"and lolly is\",lollypop)"
   ]
  },
  {
   "cell_type": "code",
   "execution_count": 9,
   "id": "47744dc3",
   "metadata": {},
   "outputs": [
    {
     "name": "stdout",
     "output_type": "stream",
     "text": [
      "Harry 1\n",
      "Larry 2\n",
      "Carry 6\n",
      "Marie 250\n"
     ]
    }
   ],
   "source": [
    "dict1=dict(list1)\n",
    "for item,lollypop in dict1.items():\n",
    "    print(item,lollypop)"
   ]
  },
  {
   "cell_type": "code",
   "execution_count": 10,
   "id": "47cd2114",
   "metadata": {},
   "outputs": [
    {
     "name": "stdout",
     "output_type": "stream",
     "text": [
      "8\n",
      "9\n",
      "56\n",
      "5885\n"
     ]
    }
   ],
   "source": [
    "list1=[\"Harry\",2,8,9,\"Carry\",2,56,5885]\n",
    "for i in list1:\n",
    "    if str(i).isnumeric() and i>6:\n",
    "        print(i)"
   ]
  },
  {
   "cell_type": "code",
   "execution_count": 11,
   "id": "5b15f298",
   "metadata": {},
   "outputs": [
    {
     "name": "stdout",
     "output_type": "stream",
     "text": [
      "0\n",
      "2\n",
      "4\n",
      "6\n",
      "8\n",
      "10\n",
      "12\n",
      "14\n",
      "16\n",
      "18\n",
      "20\n",
      "22\n",
      "24\n",
      "26\n",
      "28\n",
      "30\n",
      "32\n",
      "34\n",
      "36\n",
      "38\n",
      "40\n",
      "42\n",
      "44\n"
     ]
    }
   ],
   "source": [
    "i=0\n",
    "while(i<45):\n",
    "    print(i)\n",
    "    i=i+2"
   ]
  },
  {
   "cell_type": "code",
   "execution_count": null,
   "id": "ca8214da",
   "metadata": {},
   "outputs": [],
   "source": []
  }
 ],
 "metadata": {
  "kernelspec": {
   "display_name": "Python 3",
   "language": "python",
   "name": "python3"
  },
  "language_info": {
   "codemirror_mode": {
    "name": "ipython",
    "version": 3
   },
   "file_extension": ".py",
   "mimetype": "text/x-python",
   "name": "python",
   "nbconvert_exporter": "python",
   "pygments_lexer": "ipython3",
   "version": "3.7.2"
  }
 },
 "nbformat": 4,
 "nbformat_minor": 5
}
