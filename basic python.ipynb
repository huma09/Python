{
 "cells": [
  {
   "cell_type": "markdown",
   "id": "22721517",
   "metadata": {},
   "source": [
    "# Basic Practice "
   ]
  },
  {
   "cell_type": "code",
   "execution_count": 42,
   "id": "0139c201",
   "metadata": {},
   "outputs": [],
   "source": [
    "import numpy as np"
   ]
  },
  {
   "cell_type": "code",
   "execution_count": 1,
   "id": "a61a8c7f",
   "metadata": {
    "scrolled": true
   },
   "outputs": [
    {
     "name": "stdout",
     "output_type": "stream",
     "text": [
      "Hello World\n"
     ]
    }
   ],
   "source": [
    "print(\"Hello World\")"
   ]
  },
  {
   "cell_type": "code",
   "execution_count": 2,
   "id": "3a8e7b95",
   "metadata": {},
   "outputs": [],
   "source": [
    "a=\"Humaira\""
   ]
  },
  {
   "cell_type": "code",
   "execution_count": 3,
   "id": "7120f587",
   "metadata": {},
   "outputs": [
    {
     "data": {
      "text/plain": [
       "'Humaira'"
      ]
     },
     "execution_count": 3,
     "metadata": {},
     "output_type": "execute_result"
    }
   ],
   "source": [
    "a"
   ]
  },
  {
   "cell_type": "code",
   "execution_count": 4,
   "id": "9185e7aa",
   "metadata": {},
   "outputs": [
    {
     "data": {
      "text/plain": [
       "str"
      ]
     },
     "execution_count": 4,
     "metadata": {},
     "output_type": "execute_result"
    }
   ],
   "source": [
    "type(a)"
   ]
  },
  {
   "cell_type": "code",
   "execution_count": 5,
   "id": "94335505",
   "metadata": {},
   "outputs": [
    {
     "data": {
      "text/plain": [
       "'HUMAIRA'"
      ]
     },
     "execution_count": 5,
     "metadata": {},
     "output_type": "execute_result"
    }
   ],
   "source": [
    "a.upper()"
   ]
  },
  {
   "cell_type": "code",
   "execution_count": 6,
   "id": "4adc5204",
   "metadata": {},
   "outputs": [
    {
     "data": {
      "text/plain": [
       "'humaira'"
      ]
     },
     "execution_count": 6,
     "metadata": {},
     "output_type": "execute_result"
    }
   ],
   "source": [
    "a.lower()"
   ]
  },
  {
   "cell_type": "code",
   "execution_count": 7,
   "id": "113a2e25",
   "metadata": {},
   "outputs": [],
   "source": [
    "##a.Capitalized()"
   ]
  },
  {
   "cell_type": "code",
   "execution_count": 8,
   "id": "2fde1cac",
   "metadata": {},
   "outputs": [],
   "source": [
    "first_name=\"Humaira\""
   ]
  },
  {
   "cell_type": "code",
   "execution_count": 9,
   "id": "3c3af517",
   "metadata": {},
   "outputs": [],
   "source": [
    "last_name=\"Nasreen\""
   ]
  },
  {
   "cell_type": "code",
   "execution_count": 10,
   "id": "62e7cd69",
   "metadata": {},
   "outputs": [],
   "source": [
    "full_name=first_name+' ' +last_name"
   ]
  },
  {
   "cell_type": "code",
   "execution_count": 11,
   "id": "b7511058",
   "metadata": {},
   "outputs": [
    {
     "data": {
      "text/plain": [
       "'Humaira Nasreen'"
      ]
     },
     "execution_count": 11,
     "metadata": {},
     "output_type": "execute_result"
    }
   ],
   "source": [
    "full_name"
   ]
  },
  {
   "cell_type": "code",
   "execution_count": 12,
   "id": "17700402",
   "metadata": {},
   "outputs": [],
   "source": [
    "i=4\n",
    "j=5\n",
    "k=i+j"
   ]
  },
  {
   "cell_type": "code",
   "execution_count": 13,
   "id": "b4fa3fac",
   "metadata": {},
   "outputs": [
    {
     "data": {
      "text/plain": [
       "9"
      ]
     },
     "execution_count": 13,
     "metadata": {},
     "output_type": "execute_result"
    }
   ],
   "source": [
    "k\n"
   ]
  },
  {
   "cell_type": "code",
   "execution_count": 14,
   "id": "e2f69989",
   "metadata": {},
   "outputs": [
    {
     "data": {
      "text/plain": [
       "int"
      ]
     },
     "execution_count": 14,
     "metadata": {},
     "output_type": "execute_result"
    }
   ],
   "source": [
    "type(k)"
   ]
  },
  {
   "cell_type": "code",
   "execution_count": 15,
   "id": "e9ec5b69",
   "metadata": {},
   "outputs": [],
   "source": [
    "s=10.1\n",
    "x=45\n",
    "z=s+x"
   ]
  },
  {
   "cell_type": "code",
   "execution_count": 16,
   "id": "5fa39b0f",
   "metadata": {},
   "outputs": [
    {
     "data": {
      "text/plain": [
       "55.1"
      ]
     },
     "execution_count": 16,
     "metadata": {},
     "output_type": "execute_result"
    }
   ],
   "source": [
    "z"
   ]
  },
  {
   "cell_type": "code",
   "execution_count": 17,
   "id": "d54eb809",
   "metadata": {},
   "outputs": [
    {
     "data": {
      "text/plain": [
       "float"
      ]
     },
     "execution_count": 17,
     "metadata": {},
     "output_type": "execute_result"
    }
   ],
   "source": [
    "type(z)"
   ]
  },
  {
   "cell_type": "markdown",
   "id": "eedd015a",
   "metadata": {},
   "source": [
    "# LIST"
   ]
  },
  {
   "cell_type": "code",
   "execution_count": 18,
   "id": "ad9723b4",
   "metadata": {},
   "outputs": [],
   "source": [
    "list1=[1,2,3,4,5]"
   ]
  },
  {
   "cell_type": "code",
   "execution_count": 19,
   "id": "b3c20acb",
   "metadata": {},
   "outputs": [
    {
     "data": {
      "text/plain": [
       "[1, 2, 3, 4, 5]"
      ]
     },
     "execution_count": 19,
     "metadata": {},
     "output_type": "execute_result"
    }
   ],
   "source": [
    "list1"
   ]
  },
  {
   "cell_type": "code",
   "execution_count": 20,
   "id": "3dc6b82a",
   "metadata": {},
   "outputs": [
    {
     "data": {
      "text/plain": [
       "list"
      ]
     },
     "execution_count": 20,
     "metadata": {},
     "output_type": "execute_result"
    }
   ],
   "source": [
    "type(list1)"
   ]
  },
  {
   "cell_type": "code",
   "execution_count": 21,
   "id": "126e9621",
   "metadata": {},
   "outputs": [
    {
     "data": {
      "text/plain": [
       "3"
      ]
     },
     "execution_count": 21,
     "metadata": {},
     "output_type": "execute_result"
    }
   ],
   "source": [
    "list1[2]"
   ]
  },
  {
   "cell_type": "code",
   "execution_count": 22,
   "id": "e3b84029",
   "metadata": {},
   "outputs": [],
   "source": [
    "list2=[6,7,8,9,10]"
   ]
  },
  {
   "cell_type": "code",
   "execution_count": 23,
   "id": "3b7ee5dc",
   "metadata": {},
   "outputs": [
    {
     "data": {
      "text/plain": [
       "[6, 7, 8, 9, 10]"
      ]
     },
     "execution_count": 23,
     "metadata": {},
     "output_type": "execute_result"
    }
   ],
   "source": [
    "list2"
   ]
  },
  {
   "cell_type": "code",
   "execution_count": 24,
   "id": "508a5d70",
   "metadata": {},
   "outputs": [],
   "source": [
    "list3=list1+list2"
   ]
  },
  {
   "cell_type": "code",
   "execution_count": 25,
   "id": "f0ba992a",
   "metadata": {},
   "outputs": [
    {
     "data": {
      "text/plain": [
       "[1, 2, 3, 4, 5, 6, 7, 8, 9, 10]"
      ]
     },
     "execution_count": 25,
     "metadata": {},
     "output_type": "execute_result"
    }
   ],
   "source": [
    "list3"
   ]
  },
  {
   "cell_type": "code",
   "execution_count": 27,
   "id": "144664f5",
   "metadata": {},
   "outputs": [],
   "source": [
    "# empty list\n",
    "empty_list = []\n",
    "\n",
    "# list of numbers\n",
    "numbers = [1, 2, 3, 4, 5]\n",
    "\n",
    "# list of cities\n",
    "cities = ['Valencia', 'Munich', 'Madrid']\n",
    "\n",
    "# lists can contain elements of different types as well as duplicated elements\n",
    "elements = [1, 'A', 'A', False]"
   ]
  },
  {
   "cell_type": "code",
   "execution_count": 28,
   "id": "1e369051",
   "metadata": {},
   "outputs": [
    {
     "data": {
      "text/plain": [
       "[1, 2, 3, 4, 5]"
      ]
     },
     "execution_count": 28,
     "metadata": {},
     "output_type": "execute_result"
    }
   ],
   "source": [
    "numbers"
   ]
  },
  {
   "cell_type": "code",
   "execution_count": 29,
   "id": "d57c61f2",
   "metadata": {},
   "outputs": [
    {
     "data": {
      "text/plain": [
       "['Valencia', 'Munich', 'Madrid']"
      ]
     },
     "execution_count": 29,
     "metadata": {},
     "output_type": "execute_result"
    }
   ],
   "source": [
    "cities"
   ]
  },
  {
   "cell_type": "code",
   "execution_count": 30,
   "id": "d081d3bc",
   "metadata": {},
   "outputs": [
    {
     "data": {
      "text/plain": [
       "'Valencia'"
      ]
     },
     "execution_count": 30,
     "metadata": {},
     "output_type": "execute_result"
    }
   ],
   "source": [
    "cities[0]"
   ]
  },
  {
   "cell_type": "code",
   "execution_count": 31,
   "id": "dd3d9ffd",
   "metadata": {},
   "outputs": [
    {
     "data": {
      "text/plain": [
       "'Madrid'"
      ]
     },
     "execution_count": 31,
     "metadata": {},
     "output_type": "execute_result"
    }
   ],
   "source": [
    "cities[-1]"
   ]
  },
  {
   "cell_type": "code",
   "execution_count": 32,
   "id": "71f9868e",
   "metadata": {},
   "outputs": [
    {
     "data": {
      "text/plain": [
       "[1, 2]"
      ]
     },
     "execution_count": 32,
     "metadata": {},
     "output_type": "execute_result"
    }
   ],
   "source": [
    "numbers[0:2]"
   ]
  },
  {
   "cell_type": "code",
   "execution_count": 33,
   "id": "6184d5cb",
   "metadata": {},
   "outputs": [
    {
     "data": {
      "text/plain": [
       "['Valencia', 'Munich', 'Madrid']"
      ]
     },
     "execution_count": 33,
     "metadata": {},
     "output_type": "execute_result"
    }
   ],
   "source": [
    "cities[0:3]"
   ]
  },
  {
   "cell_type": "code",
   "execution_count": 35,
   "id": "76dfb88e",
   "metadata": {},
   "outputs": [
    {
     "data": {
      "text/plain": [
       "[]"
      ]
     },
     "execution_count": 35,
     "metadata": {},
     "output_type": "execute_result"
    }
   ],
   "source": [
    "empty_list"
   ]
  },
  {
   "cell_type": "code",
   "execution_count": 36,
   "id": "978347b7",
   "metadata": {},
   "outputs": [
    {
     "data": {
      "text/plain": [
       "[1, 'A', 'A', False]"
      ]
     },
     "execution_count": 36,
     "metadata": {},
     "output_type": "execute_result"
    }
   ],
   "source": [
    "elements"
   ]
  },
  {
   "cell_type": "code",
   "execution_count": 38,
   "id": "574a57b0",
   "metadata": {},
   "outputs": [
    {
     "data": {
      "text/plain": [
       "[1, 'A']"
      ]
     },
     "execution_count": 38,
     "metadata": {},
     "output_type": "execute_result"
    }
   ],
   "source": [
    "elements[0:2]"
   ]
  },
  {
   "cell_type": "code",
   "execution_count": 44,
   "id": "f4b730b5",
   "metadata": {},
   "outputs": [
    {
     "data": {
      "text/plain": [
       "[1, 2, 3]"
      ]
     },
     "execution_count": 44,
     "metadata": {},
     "output_type": "execute_result"
    }
   ],
   "source": [
    "### create a list from ###\n",
    "\n",
    "# a string\n",
    "list('Amanda')\n",
    "# ['A', 'm', 'a', 'n', 'd', 'a']\n",
    "\n",
    "# a tuple\n",
    "list(('Madrid', 'Valencia', 'Munich'))\n",
    "# ['Madrid', 'Valencia', 'Munich']\n",
    "\n",
    "# a dictionary \n",
    "list({'hydrogen': 1, 'helium': 2, 'carbon': 6, 'oxygen': 8})\n",
    "# ['hydrogen', 'helium', 'carbon', 'oxygen']\n",
    "\n",
    "# a set\n",
    "list({'Madrid', 'Valencia', 'Munich'})\n",
    "# ['Munich', 'Madrid', 'Valencia']\n",
    "\n",
    "# a range object\n",
    "list(range(15))\n",
    "# [0, 1, 2, 3, 4, 5, 6, 7, 8, 9, 10, 11, 12, 13, 14]\n",
    "\n",
    "# a numpy array\n",
    "list(np.array([1, 2, 3]))\n",
    "# [1, 2, 3]\n",
    "\n",
    "# a pandas series\n",
    "#list(pd.Series(['a', 'b', 'c']))\n",
    "# ['a', 'b', 'c']"
   ]
  },
  {
   "cell_type": "code",
   "execution_count": null,
   "id": "db046193",
   "metadata": {},
   "outputs": [],
   "source": []
  }
 ],
 "metadata": {
  "kernelspec": {
   "display_name": "Python 3",
   "language": "python",
   "name": "python3"
  },
  "language_info": {
   "codemirror_mode": {
    "name": "ipython",
    "version": 3
   },
   "file_extension": ".py",
   "mimetype": "text/x-python",
   "name": "python",
   "nbconvert_exporter": "python",
   "pygments_lexer": "ipython3",
   "version": "3.7.2"
  }
 },
 "nbformat": 4,
 "nbformat_minor": 5
}
